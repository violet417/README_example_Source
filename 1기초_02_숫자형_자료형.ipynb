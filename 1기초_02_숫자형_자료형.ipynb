{
  "nbformat": 4,
  "nbformat_minor": 0,
  "metadata": {
    "colab": {
      "provenance": [],
      "collapsed_sections": [],
      "authorship_tag": "ABX9TyMA1lj1J8TcK4nI1Db5YDLs",
      "include_colab_link": true
    },
    "kernelspec": {
      "name": "python3",
      "display_name": "Python 3"
    },
    "language_info": {
      "name": "python"
    }
  },
  "cells": [
    {
      "cell_type": "markdown",
      "metadata": {
        "id": "view-in-github",
        "colab_type": "text"
      },
      "source": [
        "<a href=\"https://colab.research.google.com/github/violet417/README_example_Source/blob/main/1%EA%B8%B0%EC%B4%88_02_%EC%88%AB%EC%9E%90%ED%98%95_%EC%9E%90%EB%A3%8C%ED%98%95.ipynb\" target=\"_parent\"><img src=\"https://colab.research.google.com/assets/colab-badge.svg\" alt=\"Open In Colab\"/></a>"
      ]
    },
    {
      "cell_type": "code",
      "execution_count": null,
      "metadata": {
        "colab": {
          "base_uri": "https://localhost:8080/"
        },
        "id": "DEBvnvEkVatb",
        "outputId": "e6ea0d3e-4b57-4611-da99-6cb2a1265f42"
      },
      "outputs": [
        {
          "output_type": "stream",
          "name": "stdout",
          "text": [
            "3\n"
          ]
        }
      ],
      "source": [
        "# 숫자 형태로 이루어진 자료형\n",
        "# 정수형\n",
        "a = 3\n",
        "print(a)"
      ]
    },
    {
      "cell_type": "code",
      "source": [
        "# 실수형\n",
        "a = 3.14\n",
        "print(a)"
      ],
      "metadata": {
        "colab": {
          "base_uri": "https://localhost:8080/"
        },
        "id": "EC1Lt-NHbIZr",
        "outputId": "b330dff4-665b-4523-acdb-0b8a791e10c6"
      },
      "execution_count": null,
      "outputs": [
        {
          "output_type": "stream",
          "name": "stdout",
          "text": [
            "3.14\n"
          ]
        }
      ]
    },
    {
      "cell_type": "code",
      "source": [
        "# 지수 표현\n",
        "a = 5.15E+10\n",
        "print(a)\n",
        "\n",
        "b = 5.15E-10\n",
        "print(b)"
      ],
      "metadata": {
        "colab": {
          "base_uri": "https://localhost:8080/"
        },
        "id": "2sqN3MKVbPsH",
        "outputId": "0adfb76d-4eba-4c69-f53b-1d058ea3cc1a"
      },
      "execution_count": null,
      "outputs": [
        {
          "output_type": "stream",
          "name": "stdout",
          "text": [
            "51500000000.0\n",
            "5.15e-10\n"
          ]
        }
      ]
    },
    {
      "cell_type": "code",
      "source": [
        "# 덧셈 연산\n",
        "a = 3\n",
        "b = 5\n",
        "print(a + b)"
      ],
      "metadata": {
        "colab": {
          "base_uri": "https://localhost:8080/"
        },
        "id": "559UThzPbdXq",
        "outputId": "8ecbd38d-8b8d-4e29-fff1-a9f5c1da69b3"
      },
      "execution_count": null,
      "outputs": [
        {
          "output_type": "stream",
          "name": "stdout",
          "text": [
            "8\n"
          ]
        }
      ]
    },
    {
      "cell_type": "code",
      "source": [
        "# 뺄셈 연산\n",
        "a = 3\n",
        "b = 5\n",
        "print(a - b)"
      ],
      "metadata": {
        "colab": {
          "base_uri": "https://localhost:8080/"
        },
        "id": "bkTsGMx1bkap",
        "outputId": "53cde6c1-147f-4b60-a298-424d332be2b2"
      },
      "execution_count": null,
      "outputs": [
        {
          "output_type": "stream",
          "name": "stdout",
          "text": [
            "-2\n"
          ]
        }
      ]
    },
    {
      "cell_type": "code",
      "source": [
        "# 곱셈 연산\n",
        "a = 3\n",
        "b = 5\n",
        "print(a * b)"
      ],
      "metadata": {
        "colab": {
          "base_uri": "https://localhost:8080/"
        },
        "id": "XV1ouNbgbqMH",
        "outputId": "fa99cf9b-6b51-48d1-f24e-ad8dc872324c"
      },
      "execution_count": null,
      "outputs": [
        {
          "output_type": "stream",
          "name": "stdout",
          "text": [
            "15\n"
          ]
        }
      ]
    },
    {
      "cell_type": "code",
      "source": [
        "# 나눗셈 연산\n",
        "a = 3\n",
        "b = 5\n",
        "print(a / b)"
      ],
      "metadata": {
        "colab": {
          "base_uri": "https://localhost:8080/"
        },
        "id": "n1qa8HACbwQK",
        "outputId": "fc3045b7-7fbe-4ccf-8011-08ad2009fc93"
      },
      "execution_count": null,
      "outputs": [
        {
          "output_type": "stream",
          "name": "stdout",
          "text": [
            "0.6\n"
          ]
        }
      ]
    },
    {
      "cell_type": "code",
      "source": [
        "# 나눈 후 나머지 값 구하기\n",
        "a = 3\n",
        "b = 5\n",
        "print(a % b)"
      ],
      "metadata": {
        "colab": {
          "base_uri": "https://localhost:8080/"
        },
        "id": "bWBO26cwb141",
        "outputId": "6c230189-280e-426e-e4d1-c2f2bfc818f9"
      },
      "execution_count": null,
      "outputs": [
        {
          "output_type": "stream",
          "name": "stdout",
          "text": [
            "3\n"
          ]
        }
      ]
    },
    {
      "cell_type": "code",
      "source": [
        "# 나눈 후 몫 값 구하기\n",
        "a = 3\n",
        "b = 5\n",
        "print(a // b)"
      ],
      "metadata": {
        "colab": {
          "base_uri": "https://localhost:8080/"
        },
        "id": "N-0d089Qb-Ua",
        "outputId": "3729aad6-be12-4501-a16a-e8a57a258f1a"
      },
      "execution_count": null,
      "outputs": [
        {
          "output_type": "stream",
          "name": "stdout",
          "text": [
            "0\n"
          ]
        }
      ]
    },
    {
      "cell_type": "code",
      "source": [
        "# 거듭 제곱\n",
        "a = 3\n",
        "b = 5\n",
        "print(a ** b)"
      ],
      "metadata": {
        "colab": {
          "base_uri": "https://localhost:8080/"
        },
        "id": "IUNa4kzycG49",
        "outputId": "775fdb78-92b7-4a03-a541-358b8948ccac"
      },
      "execution_count": null,
      "outputs": [
        {
          "output_type": "stream",
          "name": "stdout",
          "text": [
            "243\n"
          ]
        }
      ]
    },
    {
      "cell_type": "code",
      "source": [],
      "metadata": {
        "id": "LTIo5dOUcQi0"
      },
      "execution_count": null,
      "outputs": []
    }
  ]
}