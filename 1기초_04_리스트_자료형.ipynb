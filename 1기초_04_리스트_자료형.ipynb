{
  "nbformat": 4,
  "nbformat_minor": 0,
  "metadata": {
    "colab": {
      "provenance": [],
      "collapsed_sections": [],
      "authorship_tag": "ABX9TyPQR2BwUR0khLI/CA4Ygo4d",
      "include_colab_link": true
    },
    "kernelspec": {
      "name": "python3",
      "display_name": "Python 3"
    },
    "language_info": {
      "name": "python"
    }
  },
  "cells": [
    {
      "cell_type": "markdown",
      "metadata": {
        "id": "view-in-github",
        "colab_type": "text"
      },
      "source": [
        "<a href=\"https://colab.research.google.com/github/violet417/README_example_Source/blob/main/1%EA%B8%B0%EC%B4%88_04_%EB%A6%AC%EC%8A%A4%ED%8A%B8_%EC%9E%90%EB%A3%8C%ED%98%95.ipynb\" target=\"_parent\"><img src=\"https://colab.research.google.com/assets/colab-badge.svg\" alt=\"Open In Colab\"/></a>"
      ]
    },
    {
      "cell_type": "code",
      "execution_count": null,
      "metadata": {
        "id": "o8nukX33iyhF"
      },
      "outputs": [],
      "source": [
        "# 데이터들이 연속적으로 저장되는 형태의 자료형\n",
        "# 리스트 자료형\n",
        "a = []\n",
        "b = [1,3,5,4,2]\n",
        "c = ['text1','text2']\n",
        "d = [1,3,5,'text1','text2']\n",
        "e = [1,2,3,[4,5]]"
      ]
    },
    {
      "cell_type": "code",
      "source": [
        "# 2차원 리스트: 리스트 안에 리스트들이 나열\n",
        "a = [[1,2],[3,4],[5,6]]"
      ],
      "metadata": {
        "id": "eyUfbuJbjP6v"
      },
      "execution_count": null,
      "outputs": []
    },
    {
      "cell_type": "code",
      "source": [
        "# 리스트 인덱싱\n",
        "a = [1,3,5,4,2]\n",
        "print(a[0])\n",
        "print(a[-1])"
      ],
      "metadata": {
        "colab": {
          "base_uri": "https://localhost:8080/"
        },
        "id": "NKBA4ZkcjZdM",
        "outputId": "2549917e-4eec-4a0a-fc21-46734aa898ea"
      },
      "execution_count": null,
      "outputs": [
        {
          "output_type": "stream",
          "name": "stdout",
          "text": [
            "1\n",
            "2\n"
          ]
        }
      ]
    },
    {
      "cell_type": "code",
      "source": [
        "# 리스트 슬라이싱\n",
        "a = [1,2,3,4,5]\n",
        "print(a[0:2])\n",
        "print(a[2:])"
      ],
      "metadata": {
        "colab": {
          "base_uri": "https://localhost:8080/"
        },
        "id": "EYykGHlMjjZV",
        "outputId": "a3421187-858e-4fcd-b5f6-99e07009adb2"
      },
      "execution_count": null,
      "outputs": [
        {
          "output_type": "stream",
          "name": "stdout",
          "text": [
            "[1, 2]\n",
            "[3, 4, 5]\n"
          ]
        }
      ]
    },
    {
      "cell_type": "code",
      "source": [
        "# 리스트 덧셈 (뺄셈은 불가능하다.)\n",
        "a = [1,2,3]\n",
        "b = [4,5,6]\n",
        "print(a + b)"
      ],
      "metadata": {
        "colab": {
          "base_uri": "https://localhost:8080/"
        },
        "id": "DzQM7_oXjvU-",
        "outputId": "ddcd815b-f861-4660-e45e-56b3fa7b9b4c"
      },
      "execution_count": null,
      "outputs": [
        {
          "output_type": "stream",
          "name": "stdout",
          "text": [
            "[1, 2, 3, 4, 5, 6]\n"
          ]
        }
      ]
    },
    {
      "cell_type": "code",
      "source": [
        "# 리스트 곱셈\n",
        "a = [1,2,3]\n",
        "print(a * 3)"
      ],
      "metadata": {
        "colab": {
          "base_uri": "https://localhost:8080/"
        },
        "id": "8Hr5AS87j32i",
        "outputId": "201ec4c5-6c08-471f-e9d4-01f89acdc9fc"
      },
      "execution_count": null,
      "outputs": [
        {
          "output_type": "stream",
          "name": "stdout",
          "text": [
            "[1, 2, 3, 1, 2, 3, 1, 2, 3]\n"
          ]
        }
      ]
    },
    {
      "cell_type": "code",
      "source": [
        "# 리스트 길이 구하기\n",
        "a = [1,2,3]\n",
        "print(len(a))"
      ],
      "metadata": {
        "colab": {
          "base_uri": "https://localhost:8080/"
        },
        "id": "Fpk-solVkB1A",
        "outputId": "7c07fd1f-9ea9-489f-b3f1-3dc4d699a64f"
      },
      "execution_count": null,
      "outputs": [
        {
          "output_type": "stream",
          "name": "stdout",
          "text": [
            "3\n"
          ]
        }
      ]
    },
    {
      "cell_type": "code",
      "source": [
        "# 리스트 값 변경하기\n",
        "a = [1,3,5,4,2]\n",
        "a[1] = 10\n",
        "print(a)"
      ],
      "metadata": {
        "colab": {
          "base_uri": "https://localhost:8080/"
        },
        "id": "YkFR5xBokJDB",
        "outputId": "b91f72c9-58ef-4a48-9424-3c09705d713b"
      },
      "execution_count": null,
      "outputs": [
        {
          "output_type": "stream",
          "name": "stdout",
          "text": [
            "[1, 10, 5, 4, 2]\n"
          ]
        }
      ]
    },
    {
      "cell_type": "code",
      "source": [
        "# 리스트 값 삭제하기\n",
        "a = [1,3,5,4,2]\n",
        "del a[1]\n",
        "print(a)"
      ],
      "metadata": {
        "colab": {
          "base_uri": "https://localhost:8080/"
        },
        "id": "SXpqwQ1akUFi",
        "outputId": "aeb192d0-07df-49d5-84fe-d6fdb2cf8170"
      },
      "execution_count": null,
      "outputs": [
        {
          "output_type": "stream",
          "name": "stdout",
          "text": [
            "[1, 5, 4, 2]\n"
          ]
        }
      ]
    },
    {
      "cell_type": "code",
      "source": [
        "a = [1,3,5,4,2]\n",
        "del a[2:]\n",
        "print(a)"
      ],
      "metadata": {
        "colab": {
          "base_uri": "https://localhost:8080/"
        },
        "id": "i3YFEUnpkbAg",
        "outputId": "7dc6433e-1c30-45bc-d8d4-2e693ab04945"
      },
      "execution_count": null,
      "outputs": [
        {
          "output_type": "stream",
          "name": "stdout",
          "text": [
            "[1, 3]\n"
          ]
        }
      ]
    },
    {
      "cell_type": "code",
      "source": [
        "# list 내장함수\n",
        "a = \"Pyhon\"\n",
        "list(a)"
      ],
      "metadata": {
        "colab": {
          "base_uri": "https://localhost:8080/"
        },
        "id": "-YSf_WYVkrP3",
        "outputId": "caca0568-8a30-4343-e9d2-acb2272ceadb"
      },
      "execution_count": null,
      "outputs": [
        {
          "output_type": "execute_result",
          "data": {
            "text/plain": [
              "['P', 'y', 'h', 'o', 'n']"
            ]
          },
          "metadata": {},
          "execution_count": 11
        }
      ]
    },
    {
      "cell_type": "code",
      "source": [
        "# 리스트 전용함수: append (맨 끝에 값 추가)\n",
        "a = [1,3,5,4,2]\n",
        "a.append(7)\n",
        "print(a)"
      ],
      "metadata": {
        "colab": {
          "base_uri": "https://localhost:8080/"
        },
        "id": "LEPaAqt4k1Vk",
        "outputId": "d6fa86d1-4ce8-4dfe-f6f6-227f79cfd13b"
      },
      "execution_count": null,
      "outputs": [
        {
          "output_type": "stream",
          "name": "stdout",
          "text": [
            "[1, 3, 5, 4, 2, 7]\n"
          ]
        }
      ]
    },
    {
      "cell_type": "code",
      "source": [
        "# 리스트 전용함수: sort (오름차순 정렬)\n",
        "a = [1,3,5,4,2]\n",
        "a.sort()\n",
        "print(a)"
      ],
      "metadata": {
        "colab": {
          "base_uri": "https://localhost:8080/"
        },
        "id": "KUt4uVInk-X7",
        "outputId": "0bca382a-694b-4635-8fe9-c90e7d8b3127"
      },
      "execution_count": null,
      "outputs": [
        {
          "output_type": "stream",
          "name": "stdout",
          "text": [
            "[1, 2, 3, 4, 5]\n"
          ]
        }
      ]
    },
    {
      "cell_type": "code",
      "source": [
        "a = ['car', 'apple', 'banana']\n",
        "a.sort()\n",
        "print(a)"
      ],
      "metadata": {
        "colab": {
          "base_uri": "https://localhost:8080/"
        },
        "id": "lspm_yAqlOL5",
        "outputId": "4fc5762d-c1b9-46d7-f646-64bc4307d3d7"
      },
      "execution_count": null,
      "outputs": [
        {
          "output_type": "stream",
          "name": "stdout",
          "text": [
            "['apple', 'banana', 'car']\n"
          ]
        }
      ]
    },
    {
      "cell_type": "code",
      "source": [
        "# 리스트 전용함수: sort (내림차순 정렬)\n",
        "a = [1,3,5,4,2]\n",
        "a.sort(reverse=True)\n",
        "print(a)"
      ],
      "metadata": {
        "colab": {
          "base_uri": "https://localhost:8080/"
        },
        "id": "wB-MA2s6lFqz",
        "outputId": "01e96aca-0585-4f33-be77-2a45db19be13"
      },
      "execution_count": null,
      "outputs": [
        {
          "output_type": "stream",
          "name": "stdout",
          "text": [
            "[5, 4, 3, 2, 1]\n"
          ]
        }
      ]
    },
    {
      "cell_type": "code",
      "source": [
        "a = ['car', 'apple', 'banana']\n",
        "a[::-1]\n",
        "print(a)"
      ],
      "metadata": {
        "colab": {
          "base_uri": "https://localhost:8080/"
        },
        "id": "Z91DUq_jlhVB",
        "outputId": "f25c7b00-437d-490b-b9e6-b5a64dbf216a"
      },
      "execution_count": null,
      "outputs": [
        {
          "output_type": "stream",
          "name": "stdout",
          "text": [
            "['car', 'apple', 'banana']\n"
          ]
        }
      ]
    },
    {
      "cell_type": "code",
      "source": [
        "# 리스트 전용함수: reverse (리스트를 거꾸로 출력)\n",
        "a = ['car', 'apple', 'banana']\n",
        "a.reverse()\n",
        "print(a)"
      ],
      "metadata": {
        "colab": {
          "base_uri": "https://localhost:8080/"
        },
        "id": "MtPExW4WlWhq",
        "outputId": "66985403-7ab3-433e-8892-e946c5a07099"
      },
      "execution_count": null,
      "outputs": [
        {
          "output_type": "stream",
          "name": "stdout",
          "text": [
            "['banana', 'apple', 'car']\n"
          ]
        }
      ]
    },
    {
      "cell_type": "code",
      "source": [
        "# 리스트 전용함수: index (없는 값을 찾는 경우 오류 발생)\n",
        "a = ['car', 'apple', 'banana']\n",
        "print(a.index('apple'))"
      ],
      "metadata": {
        "colab": {
          "base_uri": "https://localhost:8080/"
        },
        "id": "ovs5Ym_Plqlj",
        "outputId": "782b8d19-2886-4234-8470-de9575dd0879"
      },
      "execution_count": null,
      "outputs": [
        {
          "output_type": "stream",
          "name": "stdout",
          "text": [
            "1\n"
          ]
        }
      ]
    },
    {
      "cell_type": "code",
      "source": [
        "# 리스트 전용함수: insert\n",
        "a = [1,3,5,4,2]\n",
        "a.insert(1,7)    # 1번째에 7 삽입\n",
        "print(a)"
      ],
      "metadata": {
        "colab": {
          "base_uri": "https://localhost:8080/"
        },
        "id": "F_ZnjWrLmOYN",
        "outputId": "5aaefb9c-45e8-48ed-c759-177d33fdc80c"
      },
      "execution_count": null,
      "outputs": [
        {
          "output_type": "stream",
          "name": "stdout",
          "text": [
            "[1, 7, 3, 5, 4, 2]\n"
          ]
        }
      ]
    },
    {
      "cell_type": "code",
      "source": [
        "# 리스트 전용함수: remove\n",
        "a = [1,3,5,4,2]\n",
        "a.remove(5)    # 삭제할 값 \n",
        "print(a)"
      ],
      "metadata": {
        "colab": {
          "base_uri": "https://localhost:8080/"
        },
        "id": "YXyLzpWumaA6",
        "outputId": "8ed7d934-8618-4d8f-9a2e-113aec920f53"
      },
      "execution_count": null,
      "outputs": [
        {
          "output_type": "stream",
          "name": "stdout",
          "text": [
            "[1, 3, 4, 2]\n"
          ]
        }
      ]
    },
    {
      "cell_type": "code",
      "source": [
        "# 리스트 전용함수: pop (가장 뒤에 있는 값을 추출)\n",
        "list1 = [1,3,5,4,2]\n",
        "a = list1.pop()\n",
        "print(list1)\n",
        "print(a)"
      ],
      "metadata": {
        "colab": {
          "base_uri": "https://localhost:8080/"
        },
        "id": "rISfKWuYmjFY",
        "outputId": "7b3d5b51-f0a3-48bd-d297-db24aa88f954"
      },
      "execution_count": null,
      "outputs": [
        {
          "output_type": "stream",
          "name": "stdout",
          "text": [
            "[1, 3, 5, 4]\n",
            "2\n"
          ]
        }
      ]
    },
    {
      "cell_type": "code",
      "source": [
        "list1 = [1,3,5,4,2]\n",
        "a = list1.pop(0)    # 0번째 값 추출\n",
        "print(list1)\n",
        "print(a)"
      ],
      "metadata": {
        "colab": {
          "base_uri": "https://localhost:8080/"
        },
        "id": "4Hit6H5jnh_V",
        "outputId": "87054827-e53a-42b5-dd4e-1fc1e2e72cfb"
      },
      "execution_count": null,
      "outputs": [
        {
          "output_type": "stream",
          "name": "stdout",
          "text": [
            "[3, 5, 4, 2]\n",
            "1\n"
          ]
        }
      ]
    },
    {
      "cell_type": "code",
      "source": [
        "# 리스트 전용함수: count\n",
        "a = [1,3,5,4,2,2,2]\n",
        "print(a.count(2))"
      ],
      "metadata": {
        "colab": {
          "base_uri": "https://localhost:8080/"
        },
        "id": "dvMpUqpXnzKd",
        "outputId": "184c186a-97c1-4f6a-9cc1-4061eb5f1c59"
      },
      "execution_count": null,
      "outputs": [
        {
          "output_type": "stream",
          "name": "stdout",
          "text": [
            "3\n"
          ]
        }
      ]
    },
    {
      "cell_type": "code",
      "source": [
        "# 리스트 전용함수: extend\n",
        "a = [1,3,5,4,2]\n",
        "a.extend([1,1,1])    # a = a + [1,1,1]와 같음\n",
        "print(a)"
      ],
      "metadata": {
        "colab": {
          "base_uri": "https://localhost:8080/"
        },
        "id": "Ar2Xy_3moACY",
        "outputId": "59678494-3515-4fdc-e7bd-322a9ba9c4e8"
      },
      "execution_count": null,
      "outputs": [
        {
          "output_type": "stream",
          "name": "stdout",
          "text": [
            "[1, 3, 5, 4, 2, 1, 1, 1]\n"
          ]
        }
      ]
    },
    {
      "cell_type": "code",
      "source": [
        "''' <실습예제>\n",
        "리스트 값이 저장된 a의 최대값을 변수 c에 할당하시고, 최소값을 변수 d에 할당하세요. \n",
        "a = [1,3,5,4,2]\n",
        "b = [1,2,3,[4,5]]\n",
        "변수 b에서 인덱싱을 사용하여 5만 추출해서 변수 e에 할당하세요.\n",
        "마지막으로 변수 c, d,e를 곱한 값을 화면에 출력해 보세요.'''\n",
        "\n",
        "a = [1,3,5,4,2]\n",
        "print(max(a))\n",
        "print(min(a))"
      ],
      "metadata": {
        "id": "Fr65llhmoK5K",
        "colab": {
          "base_uri": "https://localhost:8080/"
        },
        "outputId": "15abe380-06a2-4807-d5c7-ff9ead7713ff"
      },
      "execution_count": null,
      "outputs": [
        {
          "output_type": "stream",
          "name": "stdout",
          "text": [
            "5\n",
            "1\n"
          ]
        }
      ]
    },
    {
      "cell_type": "code",
      "source": [
        "c = 5\n",
        "d = 1\n",
        "b = [1,2,3,[4,5]]\n",
        "e = b[3][1]\n",
        "print(c * d * e)"
      ],
      "metadata": {
        "colab": {
          "base_uri": "https://localhost:8080/"
        },
        "id": "jGTkCVsTuI8I",
        "outputId": "489f5719-f966-4de4-b380-75793b7cbbfa"
      },
      "execution_count": null,
      "outputs": [
        {
          "output_type": "stream",
          "name": "stdout",
          "text": [
            "25\n"
          ]
        }
      ]
    },
    {
      "cell_type": "code",
      "source": [
        "a = [1,3,5,4,2]\n",
        "a.sort()\n",
        "print(a)"
      ],
      "metadata": {
        "colab": {
          "base_uri": "https://localhost:8080/"
        },
        "id": "QZ6vA_bkvGDn",
        "outputId": "62abc6f0-620d-4783-e6cf-1cfe3f44eae9"
      },
      "execution_count": null,
      "outputs": [
        {
          "output_type": "stream",
          "name": "stdout",
          "text": [
            "[1, 2, 3, 4, 5]\n"
          ]
        }
      ]
    },
    {
      "cell_type": "code",
      "source": [
        "c = a[-1]\n",
        "d = a[0]\n",
        "\n",
        "b = [1,2,3,[4,5]]\n",
        "e = b[3][1]\n",
        "print(c * d * e)"
      ],
      "metadata": {
        "colab": {
          "base_uri": "https://localhost:8080/"
        },
        "id": "aKnEWBk-vmSO",
        "outputId": "bb68f784-1532-4436-ea04-2056aab7eaeb"
      },
      "execution_count": null,
      "outputs": [
        {
          "output_type": "stream",
          "name": "stdout",
          "text": [
            "25\n"
          ]
        }
      ]
    },
    {
      "cell_type": "code",
      "source": [],
      "metadata": {
        "id": "2Nrwl7zqv7G3"
      },
      "execution_count": null,
      "outputs": []
    }
  ]
}