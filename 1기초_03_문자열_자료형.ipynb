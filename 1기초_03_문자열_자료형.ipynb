{
  "nbformat": 4,
  "nbformat_minor": 0,
  "metadata": {
    "colab": {
      "provenance": [],
      "collapsed_sections": [],
      "authorship_tag": "ABX9TyPXAFlQDgj+gltIE1jYOhFQ",
      "include_colab_link": true
    },
    "kernelspec": {
      "name": "python3",
      "display_name": "Python 3"
    },
    "language_info": {
      "name": "python"
    }
  },
  "cells": [
    {
      "cell_type": "markdown",
      "metadata": {
        "id": "view-in-github",
        "colab_type": "text"
      },
      "source": [
        "<a href=\"https://colab.research.google.com/github/violet417/README_example_Source/blob/main/1%EA%B8%B0%EC%B4%88_03_%EB%AC%B8%EC%9E%90%EC%97%B4_%EC%9E%90%EB%A3%8C%ED%98%95.ipynb\" target=\"_parent\"><img src=\"https://colab.research.google.com/assets/colab-badge.svg\" alt=\"Open In Colab\"/></a>"
      ]
    },
    {
      "cell_type": "code",
      "execution_count": null,
      "metadata": {
        "colab": {
          "base_uri": "https://localhost:8080/"
        },
        "id": "kRoUefK3cU4A",
        "outputId": "940417c6-3b1e-4185-a621-bfaef6a660b4"
      },
      "outputs": [
        {
          "output_type": "stream",
          "name": "stdout",
          "text": [
            "Hello World\n"
          ]
        }
      ],
      "source": [
        "# 문자, 단어 등으로 구성된 문자들의 집합\n",
        "# 문자열 자료형 표현 방법\n",
        "text = 'Hello World'\n",
        "text = \"Hello World\"\n",
        "text = '''Hello World'''\n",
        "text = \"\"\"Hello World\"\"\"\n",
        "print(text)"
      ]
    },
    {
      "cell_type": "code",
      "source": [
        "text = 'He said \"Hi\" to me.'\n",
        "print(text)"
      ],
      "metadata": {
        "colab": {
          "base_uri": "https://localhost:8080/"
        },
        "id": "z6me6wkGclwW",
        "outputId": "76b2f84e-261f-4b5c-d225-d5fc04ec37e7"
      },
      "execution_count": null,
      "outputs": [
        {
          "output_type": "stream",
          "name": "stdout",
          "text": [
            "He said \"Hi\" to me.\n"
          ]
        }
      ]
    },
    {
      "cell_type": "code",
      "source": [
        "text = \"He said \\\"Hi\\\" to me.\"\n",
        "print(text)"
      ],
      "metadata": {
        "colab": {
          "base_uri": "https://localhost:8080/"
        },
        "id": "Ul89Es9PczHm",
        "outputId": "79760b16-0eff-4945-aeb4-772dfc5763bd"
      },
      "execution_count": null,
      "outputs": [
        {
          "output_type": "stream",
          "name": "stdout",
          "text": [
            "He said \"Hi\" to me.\n"
          ]
        }
      ]
    },
    {
      "cell_type": "code",
      "source": [
        "# 줄 바꿈 코드(\\n)\n",
        "text = \"Life is too short\\nYou need Python.\"\n",
        "print(text)"
      ],
      "metadata": {
        "colab": {
          "base_uri": "https://localhost:8080/"
        },
        "id": "Pl2oquflc636",
        "outputId": "716b4dc3-fdd5-40a8-9646-9f9e7ecb3ed3"
      },
      "execution_count": null,
      "outputs": [
        {
          "output_type": "stream",
          "name": "stdout",
          "text": [
            "Life is too short\n",
            "You need Python.\n"
          ]
        }
      ]
    },
    {
      "cell_type": "code",
      "source": [
        "text = \"\"\"Life is too short\n",
        "You need Python.\n",
        "\"\"\"\n",
        "print(text)"
      ],
      "metadata": {
        "colab": {
          "base_uri": "https://localhost:8080/"
        },
        "id": "1eW4czS0dG4d",
        "outputId": "2cb43483-fa91-4d97-9204-cd5406d3be2f"
      },
      "execution_count": null,
      "outputs": [
        {
          "output_type": "stream",
          "name": "stdout",
          "text": [
            "Life is too short\n",
            "You need Python.\n",
            "\n"
          ]
        }
      ]
    },
    {
      "cell_type": "code",
      "source": [
        "# 이스케이프 코드: 미리 정의 둔 문자조합\n",
        "# \\n: 줄 바꿈 | \\t: 탭 | \\\\: \\ | \\': 작은따옴표 사용 | \\\": 큰따옴표 사용"
      ],
      "metadata": {
        "id": "rrajnzP7dPGQ"
      },
      "execution_count": null,
      "outputs": []
    },
    {
      "cell_type": "code",
      "source": [
        "# 문자열 덧셈 (뺄셈은 불가능하다.)\n",
        "a = 'Python'\n",
        "b = ' is too fun!'\n",
        "print(a + b)"
      ],
      "metadata": {
        "colab": {
          "base_uri": "https://localhost:8080/"
        },
        "id": "1EWyYlP0dqXl",
        "outputId": "2d9f520d-f756-4e2e-a926-e624b5efc223"
      },
      "execution_count": null,
      "outputs": [
        {
          "output_type": "stream",
          "name": "stdout",
          "text": [
            "Python is too fun!\n"
          ]
        }
      ]
    },
    {
      "cell_type": "code",
      "source": [
        "# 문자열 곱셈\n",
        "a = 'Python'\n",
        "print(a * 3)"
      ],
      "metadata": {
        "colab": {
          "base_uri": "https://localhost:8080/"
        },
        "id": "QE0ie4x0dzC2",
        "outputId": "4d832a64-e885-499f-b242-a2a25ebeff79"
      },
      "execution_count": null,
      "outputs": [
        {
          "output_type": "stream",
          "name": "stdout",
          "text": [
            "PythonPythonPython\n"
          ]
        }
      ]
    },
    {
      "cell_type": "code",
      "source": [
        "# 문자열 길이 구하기\n",
        "a = 'Python'\n",
        "print(len(a))"
      ],
      "metadata": {
        "colab": {
          "base_uri": "https://localhost:8080/"
        },
        "id": "zEyGAQZDeAS1",
        "outputId": "2ec8cc1c-364c-4c92-ff1a-c6d584bde599"
      },
      "execution_count": null,
      "outputs": [
        {
          "output_type": "stream",
          "name": "stdout",
          "text": [
            "6\n"
          ]
        }
      ]
    },
    {
      "cell_type": "code",
      "source": [
        "# 문자열 인덱싱\n",
        "a = 'Python'\n",
        "print(a[0])\n",
        "print(a[-1])"
      ],
      "metadata": {
        "colab": {
          "base_uri": "https://localhost:8080/"
        },
        "id": "VEwL4reteGgq",
        "outputId": "f534f5bf-87ce-4cdb-9320-08acfbdf8f88"
      },
      "execution_count": null,
      "outputs": [
        {
          "output_type": "stream",
          "name": "stdout",
          "text": [
            "P\n",
            "n\n"
          ]
        }
      ]
    },
    {
      "cell_type": "code",
      "source": [
        "# 문자열 슬라이싱\n",
        "a = 'Python is too fun!'\n",
        "print(a[2:9])\n",
        "print(a[:9])\n",
        "print(a[3:])"
      ],
      "metadata": {
        "colab": {
          "base_uri": "https://localhost:8080/"
        },
        "id": "Q5uFp8e9eOS2",
        "outputId": "ae2a9b58-43cb-4491-b11c-9a45245eeae5"
      },
      "execution_count": null,
      "outputs": [
        {
          "output_type": "stream",
          "name": "stdout",
          "text": [
            "thon is\n",
            "Python is\n",
            "hon is too fun!\n"
          ]
        }
      ]
    },
    {
      "cell_type": "code",
      "source": [
        "# 문자열 전용함수: format\n",
        "text = \"I eat {} apples\".format(3)\n",
        "print(text)"
      ],
      "metadata": {
        "colab": {
          "base_uri": "https://localhost:8080/"
        },
        "id": "s3TeJXFqedLq",
        "outputId": "4e72fc79-6f6d-47e1-ee6e-c2d7e83fa7b7"
      },
      "execution_count": null,
      "outputs": [
        {
          "output_type": "stream",
          "name": "stdout",
          "text": [
            "I eat 3 apples\n"
          ]
        }
      ]
    },
    {
      "cell_type": "code",
      "source": [
        "text = \"I eat {} apples and {} oranges\".format(3, 5)\n",
        "print(text)"
      ],
      "metadata": {
        "colab": {
          "base_uri": "https://localhost:8080/"
        },
        "id": "kilhcdhreoX9",
        "outputId": "564879ab-4454-44ba-82f1-226a10fc1364"
      },
      "execution_count": null,
      "outputs": [
        {
          "output_type": "stream",
          "name": "stdout",
          "text": [
            "I eat 3 apples and 5 oranges\n"
          ]
        }
      ]
    },
    {
      "cell_type": "code",
      "source": [
        "text = \"I eat {0} apples and {0} oranges\".format(3, 5)\n",
        "print(text)"
      ],
      "metadata": {
        "colab": {
          "base_uri": "https://localhost:8080/"
        },
        "id": "E5PqdZQtexwH",
        "outputId": "23bbe3da-d1d9-4979-cab4-082cb2b9d3a2"
      },
      "execution_count": null,
      "outputs": [
        {
          "output_type": "stream",
          "name": "stdout",
          "text": [
            "I eat 3 apples and 3 oranges\n"
          ]
        }
      ]
    },
    {
      "cell_type": "code",
      "source": [
        "text = \"{:>10}\".format(\"Hi\")\n",
        "print(text)"
      ],
      "metadata": {
        "colab": {
          "base_uri": "https://localhost:8080/"
        },
        "id": "1CmTrzR5e5pP",
        "outputId": "72207faf-e541-49d4-e86c-310786c27e54"
      },
      "execution_count": null,
      "outputs": [
        {
          "output_type": "stream",
          "name": "stdout",
          "text": [
            "        Hi\n"
          ]
        }
      ]
    },
    {
      "cell_type": "code",
      "source": [
        "text = \"{:<10}\".format(\"Hi\")\n",
        "print(text)"
      ],
      "metadata": {
        "colab": {
          "base_uri": "https://localhost:8080/"
        },
        "id": "7raGLWaNfD4j",
        "outputId": "620a2cf6-e6ba-424f-84b7-f0ac8e35f70a"
      },
      "execution_count": null,
      "outputs": [
        {
          "output_type": "stream",
          "name": "stdout",
          "text": [
            "Hi        \n"
          ]
        }
      ]
    },
    {
      "cell_type": "code",
      "source": [
        "text = \"{:^10}\".format(\"Hi\")\n",
        "print(text)"
      ],
      "metadata": {
        "colab": {
          "base_uri": "https://localhost:8080/"
        },
        "id": "yTcPci-ofI0X",
        "outputId": "21f5f93b-a6a7-4098-97a2-866c13aac0b4"
      },
      "execution_count": null,
      "outputs": [
        {
          "output_type": "stream",
          "name": "stdout",
          "text": [
            "    Hi    \n"
          ]
        }
      ]
    },
    {
      "cell_type": "code",
      "source": [
        "text = \"{:=^10}\".format(\"Hi\")\n",
        "print(text)"
      ],
      "metadata": {
        "colab": {
          "base_uri": "https://localhost:8080/"
        },
        "id": "3evOwotQfOHO",
        "outputId": "e5028dff-1f03-48ab-9407-5a1f67b404e5"
      },
      "execution_count": null,
      "outputs": [
        {
          "output_type": "stream",
          "name": "stdout",
          "text": [
            "====Hi====\n"
          ]
        }
      ]
    },
    {
      "cell_type": "code",
      "source": [
        "text = \"{:.2f}\".format(3.141592)\n",
        "print(text)"
      ],
      "metadata": {
        "colab": {
          "base_uri": "https://localhost:8080/"
        },
        "id": "qDRheJXBfX9e",
        "outputId": "7402ed8a-6509-4a49-afbc-e5826b0df2dd"
      },
      "execution_count": null,
      "outputs": [
        {
          "output_type": "stream",
          "name": "stdout",
          "text": [
            "3.14\n"
          ]
        }
      ]
    },
    {
      "cell_type": "code",
      "source": [
        "# 문자열 전용함수: count\n",
        "text = \"Python:is:too:fun!\"\n",
        "print(text.count('o'))"
      ],
      "metadata": {
        "colab": {
          "base_uri": "https://localhost:8080/"
        },
        "id": "QVl1gIJ0fg4S",
        "outputId": "5167d736-7a00-4f62-cb62-b10d8f8b3308"
      },
      "execution_count": null,
      "outputs": [
        {
          "output_type": "stream",
          "name": "stdout",
          "text": [
            "3\n"
          ]
        }
      ]
    },
    {
      "cell_type": "code",
      "source": [
        "# 문자열 전용함수: find (없는 값을 찾을 경우 -1로 표시)\n",
        "text = \"Python is too fun!\"\n",
        "print(text.find('o'))\n",
        "print(text.find('z'))"
      ],
      "metadata": {
        "colab": {
          "base_uri": "https://localhost:8080/"
        },
        "id": "jfncIrlTfsXt",
        "outputId": "b7c7d36a-c168-4e8c-ff85-b22ebfa7a197"
      },
      "execution_count": null,
      "outputs": [
        {
          "output_type": "stream",
          "name": "stdout",
          "text": [
            "4\n",
            "-1\n"
          ]
        }
      ]
    },
    {
      "cell_type": "code",
      "source": [
        "# 문자열 전용함수: join\n",
        "text = \",\".join(\"abcde\")\n",
        "print(text)"
      ],
      "metadata": {
        "colab": {
          "base_uri": "https://localhost:8080/"
        },
        "id": "-xHYjBFof5Og",
        "outputId": "7a00d171-3d9d-49d6-e22e-1fc13af8b435"
      },
      "execution_count": null,
      "outputs": [
        {
          "output_type": "stream",
          "name": "stdout",
          "text": [
            "a,b,c,d,e\n"
          ]
        }
      ]
    },
    {
      "cell_type": "code",
      "source": [
        "# 문자열 전용함수: upper\n",
        "text = \"Python is too fun!\"\n",
        "print(text.upper())"
      ],
      "metadata": {
        "colab": {
          "base_uri": "https://localhost:8080/"
        },
        "id": "5WutFqiHgMiB",
        "outputId": "304657bc-f956-4481-870e-ca0f04afe8a9"
      },
      "execution_count": null,
      "outputs": [
        {
          "output_type": "stream",
          "name": "stdout",
          "text": [
            "PYTHON IS TOO FUN!\n"
          ]
        }
      ]
    },
    {
      "cell_type": "code",
      "source": [
        "# 문자열 전용함수: lower\n",
        "text = \"Python is too fun!\"\n",
        "print(text.lower())"
      ],
      "metadata": {
        "colab": {
          "base_uri": "https://localhost:8080/"
        },
        "id": "TW67dYMKgWWR",
        "outputId": "38f0de34-e7bc-4f7a-fa67-dc396aad2aee"
      },
      "execution_count": null,
      "outputs": [
        {
          "output_type": "stream",
          "name": "stdout",
          "text": [
            "python is too fun!\n"
          ]
        }
      ]
    },
    {
      "cell_type": "code",
      "source": [
        "# 문자열 전용함수: lstrip\n",
        "text = \"    Hello   \"\n",
        "print(text.lstrip())"
      ],
      "metadata": {
        "colab": {
          "base_uri": "https://localhost:8080/"
        },
        "id": "Xusq0lm3gerK",
        "outputId": "35069049-c9b2-465a-97ed-001603ff4420"
      },
      "execution_count": null,
      "outputs": [
        {
          "output_type": "stream",
          "name": "stdout",
          "text": [
            "Hello   \n"
          ]
        }
      ]
    },
    {
      "cell_type": "code",
      "source": [
        "# 문자열 전용함수: rstrip\n",
        "text = \"    Hello   \"\n",
        "print(text.rstrip())"
      ],
      "metadata": {
        "colab": {
          "base_uri": "https://localhost:8080/"
        },
        "id": "iNYbXXVVgtOa",
        "outputId": "125058a0-b91d-4fac-dbfb-ee7c763ed8d2"
      },
      "execution_count": null,
      "outputs": [
        {
          "output_type": "stream",
          "name": "stdout",
          "text": [
            "    Hello\n"
          ]
        }
      ]
    },
    {
      "cell_type": "code",
      "source": [
        "# 문자열 전용함수: strip\n",
        "text = \"    Hello   \"\n",
        "print(text.strip())"
      ],
      "metadata": {
        "colab": {
          "base_uri": "https://localhost:8080/"
        },
        "id": "e0K5Bgrdg1PF",
        "outputId": "4106e4c0-c7af-45bd-ae94-260dea1eac65"
      },
      "execution_count": null,
      "outputs": [
        {
          "output_type": "stream",
          "name": "stdout",
          "text": [
            "Hello\n"
          ]
        }
      ]
    },
    {
      "cell_type": "code",
      "source": [
        "# 문자열 전용함수: replace\n",
        "text = \"Python is too fun!\"\n",
        "print(text.replace(\"Python\", \"Java\"))"
      ],
      "metadata": {
        "colab": {
          "base_uri": "https://localhost:8080/"
        },
        "id": "lyLAs5PIg85v",
        "outputId": "53f19928-6493-4aee-e3dc-6e908e8594ff"
      },
      "execution_count": null,
      "outputs": [
        {
          "output_type": "stream",
          "name": "stdout",
          "text": [
            "Java is too fun!\n"
          ]
        }
      ]
    },
    {
      "cell_type": "code",
      "source": [
        "# 문자열 전용함수: split\n",
        "text = \"Python is too fun!\"\n",
        "print(text.split())"
      ],
      "metadata": {
        "colab": {
          "base_uri": "https://localhost:8080/"
        },
        "id": "aWWtjHmphJ_L",
        "outputId": "6bbdd7cb-cc0e-4c8b-f833-bf25af6e56b5"
      },
      "execution_count": null,
      "outputs": [
        {
          "output_type": "stream",
          "name": "stdout",
          "text": [
            "['Python', 'is', 'too', 'fun!']\n"
          ]
        }
      ]
    },
    {
      "cell_type": "code",
      "source": [
        "text = \"Python:is:too:fun!\"\n",
        "print(text.split(':'))"
      ],
      "metadata": {
        "colab": {
          "base_uri": "https://localhost:8080/"
        },
        "id": "IHojoYPlhTxZ",
        "outputId": "8760fae2-9a8c-49e4-a3e4-f831b42de59c"
      },
      "execution_count": null,
      "outputs": [
        {
          "output_type": "stream",
          "name": "stdout",
          "text": [
            "['Python', 'is', 'too', 'fun!']\n"
          ]
        }
      ]
    },
    {
      "cell_type": "code",
      "source": [
        "# 문자열 전용함수: startswith\n",
        "text = \"Python is too fun!\"\n",
        "text.startswith(\"Python\")"
      ],
      "metadata": {
        "colab": {
          "base_uri": "https://localhost:8080/"
        },
        "id": "pylWNKCRhbKz",
        "outputId": "1e179404-cadb-4288-812b-81bb874d287d"
      },
      "execution_count": null,
      "outputs": [
        {
          "output_type": "execute_result",
          "data": {
            "text/plain": [
              "True"
            ]
          },
          "metadata": {},
          "execution_count": 33
        }
      ]
    },
    {
      "cell_type": "code",
      "source": [
        "# 문자열 전용함수: endswith\n",
        "text = \"Python is too fun!\"\n",
        "text.endswith(\"fun!\")"
      ],
      "metadata": {
        "colab": {
          "base_uri": "https://localhost:8080/"
        },
        "id": "0D_GwVl6hpa7",
        "outputId": "aa200daf-8a7a-4e0c-86f9-8542300df2e0"
      },
      "execution_count": null,
      "outputs": [
        {
          "output_type": "execute_result",
          "data": {
            "text/plain": [
              "True"
            ]
          },
          "metadata": {},
          "execution_count": 34
        }
      ]
    },
    {
      "cell_type": "code",
      "source": [
        "# 문자열 전용함수: isalpha\n",
        "text = 'Hello'\n",
        "print(text.isalpha())"
      ],
      "metadata": {
        "colab": {
          "base_uri": "https://localhost:8080/"
        },
        "id": "vFn_dQiGhyKg",
        "outputId": "f4ff2dd3-dad5-4949-e5d1-56eacd1aa017"
      },
      "execution_count": null,
      "outputs": [
        {
          "output_type": "stream",
          "name": "stdout",
          "text": [
            "True\n"
          ]
        }
      ]
    },
    {
      "cell_type": "code",
      "source": [
        "text = '안녕하세요'\n",
        "print(text.isalpha())"
      ],
      "metadata": {
        "colab": {
          "base_uri": "https://localhost:8080/"
        },
        "id": "FAocNpkih7J9",
        "outputId": "12c923da-9b35-40a1-d92f-d91b9ce36e2a"
      },
      "execution_count": null,
      "outputs": [
        {
          "output_type": "stream",
          "name": "stdout",
          "text": [
            "True\n"
          ]
        }
      ]
    },
    {
      "cell_type": "code",
      "source": [
        "text = 'Hello Wolrd!'\n",
        "print(text.isalpha())"
      ],
      "metadata": {
        "colab": {
          "base_uri": "https://localhost:8080/"
        },
        "id": "BJFAculiiCxX",
        "outputId": "688b3c03-778f-470c-9a2c-084b6e919623"
      },
      "execution_count": null,
      "outputs": [
        {
          "output_type": "stream",
          "name": "stdout",
          "text": [
            "False\n"
          ]
        }
      ]
    },
    {
      "cell_type": "code",
      "source": [
        "text = 'Hello300'\n",
        "print(text.isalpha())"
      ],
      "metadata": {
        "colab": {
          "base_uri": "https://localhost:8080/"
        },
        "id": "Veftg8eeiI6w",
        "outputId": "b74a2b37-70f8-4fe6-df03-51a27c2b0d43"
      },
      "execution_count": null,
      "outputs": [
        {
          "output_type": "stream",
          "name": "stdout",
          "text": [
            "False\n"
          ]
        }
      ]
    },
    {
      "cell_type": "code",
      "source": [
        "# 문자열 전용함수: isdigit\n",
        "text = '300'\n",
        "print(text.isdigit())"
      ],
      "metadata": {
        "colab": {
          "base_uri": "https://localhost:8080/"
        },
        "id": "S6OWpKY2iPLp",
        "outputId": "91c650fb-db80-46e8-a84e-561872bbb193"
      },
      "execution_count": null,
      "outputs": [
        {
          "output_type": "stream",
          "name": "stdout",
          "text": [
            "True\n"
          ]
        }
      ]
    },
    {
      "cell_type": "code",
      "source": [
        "# 문자열 전용함수: isalnum\n",
        "text = 'hello300'\n",
        "print(text.isalnum())"
      ],
      "metadata": {
        "colab": {
          "base_uri": "https://localhost:8080/"
        },
        "id": "pxADfMkliXJ8",
        "outputId": "ca6a6565-1fdc-431d-fb92-b03d431b8b1e"
      },
      "execution_count": null,
      "outputs": [
        {
          "output_type": "stream",
          "name": "stdout",
          "text": [
            "True\n"
          ]
        }
      ]
    },
    {
      "cell_type": "code",
      "source": [
        "# 문자열 전용함수: isspace\n",
        "text = '    '\n",
        "print(text.isspace())"
      ],
      "metadata": {
        "colab": {
          "base_uri": "https://localhost:8080/"
        },
        "id": "ZtszY644ibvH",
        "outputId": "3bdef094-0bf6-442b-cc4b-bebbe31aebba"
      },
      "execution_count": null,
      "outputs": [
        {
          "output_type": "stream",
          "name": "stdout",
          "text": [
            "True\n"
          ]
        }
      ]
    },
    {
      "cell_type": "code",
      "source": [],
      "metadata": {
        "id": "1jyAh-g_iusH"
      },
      "execution_count": null,
      "outputs": []
    }
  ]
}